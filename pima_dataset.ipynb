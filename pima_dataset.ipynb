{
  "nbformat": 4,
  "nbformat_minor": 0,
  "metadata": {
    "colab": {
      "name": "pima_dataset.ipynb",
      "provenance": [],
      "include_colab_link": true
    },
    "kernelspec": {
      "name": "python3",
      "display_name": "Python 3"
    }
  },
  "cells": [
    {
      "cell_type": "markdown",
      "metadata": {
        "id": "view-in-github",
        "colab_type": "text"
      },
      "source": [
        "<a href=\"https://colab.research.google.com/github/kapurm17/Pima_dataset/blob/new_branch/pima_dataset.ipynb\" target=\"_parent\"><img src=\"https://colab.research.google.com/assets/colab-badge.svg\" alt=\"Open In Colab\"/></a>"
      ]
    },
    {
      "cell_type": "code",
      "metadata": {
        "id": "1MMgV1dBjYAU",
        "colab_type": "code",
        "colab": {}
      },
      "source": [
        "import pandas as pd\n",
        "from google.colab import files\n",
        "import io\n",
        "from sklearn.model_selection import train_test_split\n",
        "import matplotlib.pyplot as plt\n",
        "from sklearn.tree import DecisionTreeClassifier\n",
        "from sklearn.linear_model import LogisticRegression\n",
        "from sklearn.metrics import mean_squared_error as mse\n",
        "from sklearn.neighbors import KNeighborsClassifier\n",
        "from sklearn.neural_network import MLPClassifier\n",
        "from sklearn.preprocessing import StandardScaler"
      ],
      "execution_count": 0,
      "outputs": []
    },
    {
      "cell_type": "code",
      "metadata": {
        "id": "mn6wsBmcjZb7",
        "colab_type": "code",
        "outputId": "d1ba612b-eecd-4137-ced9-32f993eba019",
        "colab": {
          "resources": {
            "http://localhost:8080/nbextensions/google.colab/files.js": {
              "data": "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",
              "ok": true,
              "headers": [
                [
                  "content-type",
                  "application/javascript"
                ]
              ],
              "status": 200,
              "status_text": ""
            }
          },
          "base_uri": "https://localhost:8080/",
          "height": 75
        }
      },
      "source": [
        "uploaded = files.upload()"
      ],
      "execution_count": 10,
      "outputs": [
        {
          "output_type": "display_data",
          "data": {
            "text/html": [
              "\n",
              "     <input type=\"file\" id=\"files-5a4af84e-7aeb-4d18-9be4-97a4894abb1c\" name=\"files[]\" multiple disabled />\n",
              "     <output id=\"result-5a4af84e-7aeb-4d18-9be4-97a4894abb1c\">\n",
              "      Upload widget is only available when the cell has been executed in the\n",
              "      current browser session. Please rerun this cell to enable.\n",
              "      </output>\n",
              "      <script src=\"/nbextensions/google.colab/files.js\"></script> "
            ],
            "text/plain": [
              "<IPython.core.display.HTML object>"
            ]
          },
          "metadata": {
            "tags": []
          }
        },
        {
          "output_type": "stream",
          "text": [
            "Saving data.csv to data.csv\n"
          ],
          "name": "stdout"
        }
      ]
    },
    {
      "cell_type": "code",
      "metadata": {
        "id": "3QArtuCAjibe",
        "colab_type": "code",
        "colab": {}
      },
      "source": [
        "df = pd.read_csv(io.BytesIO(uploaded['data.csv']), header = None)"
      ],
      "execution_count": 0,
      "outputs": []
    },
    {
      "cell_type": "code",
      "metadata": {
        "id": "1L9xoV0gk67I",
        "colab_type": "code",
        "outputId": "285ef665-e5eb-4520-9541-67f5473f83ff",
        "colab": {
          "base_uri": "https://localhost:8080/",
          "height": 194
        }
      },
      "source": [
        "df.head()"
      ],
      "execution_count": 46,
      "outputs": [
        {
          "output_type": "execute_result",
          "data": {
            "text/html": [
              "<div>\n",
              "<style scoped>\n",
              "    .dataframe tbody tr th:only-of-type {\n",
              "        vertical-align: middle;\n",
              "    }\n",
              "\n",
              "    .dataframe tbody tr th {\n",
              "        vertical-align: top;\n",
              "    }\n",
              "\n",
              "    .dataframe thead th {\n",
              "        text-align: right;\n",
              "    }\n",
              "</style>\n",
              "<table border=\"1\" class=\"dataframe\">\n",
              "  <thead>\n",
              "    <tr style=\"text-align: right;\">\n",
              "      <th></th>\n",
              "      <th>0</th>\n",
              "      <th>1</th>\n",
              "      <th>2</th>\n",
              "      <th>3</th>\n",
              "      <th>4</th>\n",
              "      <th>5</th>\n",
              "      <th>6</th>\n",
              "      <th>7</th>\n",
              "      <th>8</th>\n",
              "    </tr>\n",
              "  </thead>\n",
              "  <tbody>\n",
              "    <tr>\n",
              "      <th>0</th>\n",
              "      <td>6</td>\n",
              "      <td>148</td>\n",
              "      <td>72</td>\n",
              "      <td>35</td>\n",
              "      <td>0</td>\n",
              "      <td>33.6</td>\n",
              "      <td>0.627</td>\n",
              "      <td>50</td>\n",
              "      <td>1</td>\n",
              "    </tr>\n",
              "    <tr>\n",
              "      <th>1</th>\n",
              "      <td>1</td>\n",
              "      <td>85</td>\n",
              "      <td>66</td>\n",
              "      <td>29</td>\n",
              "      <td>0</td>\n",
              "      <td>26.6</td>\n",
              "      <td>0.351</td>\n",
              "      <td>31</td>\n",
              "      <td>0</td>\n",
              "    </tr>\n",
              "    <tr>\n",
              "      <th>2</th>\n",
              "      <td>8</td>\n",
              "      <td>183</td>\n",
              "      <td>64</td>\n",
              "      <td>0</td>\n",
              "      <td>0</td>\n",
              "      <td>23.3</td>\n",
              "      <td>0.672</td>\n",
              "      <td>32</td>\n",
              "      <td>1</td>\n",
              "    </tr>\n",
              "    <tr>\n",
              "      <th>3</th>\n",
              "      <td>1</td>\n",
              "      <td>89</td>\n",
              "      <td>66</td>\n",
              "      <td>23</td>\n",
              "      <td>94</td>\n",
              "      <td>28.1</td>\n",
              "      <td>0.167</td>\n",
              "      <td>21</td>\n",
              "      <td>0</td>\n",
              "    </tr>\n",
              "    <tr>\n",
              "      <th>4</th>\n",
              "      <td>0</td>\n",
              "      <td>137</td>\n",
              "      <td>40</td>\n",
              "      <td>35</td>\n",
              "      <td>168</td>\n",
              "      <td>43.1</td>\n",
              "      <td>2.288</td>\n",
              "      <td>33</td>\n",
              "      <td>1</td>\n",
              "    </tr>\n",
              "  </tbody>\n",
              "</table>\n",
              "</div>"
            ],
            "text/plain": [
              "   0    1   2   3    4     5      6   7  8\n",
              "0  6  148  72  35    0  33.6  0.627  50  1\n",
              "1  1   85  66  29    0  26.6  0.351  31  0\n",
              "2  8  183  64   0    0  23.3  0.672  32  1\n",
              "3  1   89  66  23   94  28.1  0.167  21  0\n",
              "4  0  137  40  35  168  43.1  2.288  33  1"
            ]
          },
          "metadata": {
            "tags": []
          },
          "execution_count": 46
        }
      ]
    },
    {
      "cell_type": "code",
      "metadata": {
        "id": "sAXx-LldmjFC",
        "colab_type": "code",
        "colab": {}
      },
      "source": [
        "df.columns = ['Num_times_pregnent', 'Plasma_gluc_Conc', 'Diastolic_blood_pressure', 'Triceps_thickness', 'Two_hour_serum_insulin', 'BMI' , 'Diabetes_pedigree_func', 'Age', 'out']"
      ],
      "execution_count": 0,
      "outputs": []
    },
    {
      "cell_type": "code",
      "metadata": {
        "id": "6mPU8eLxpIjw",
        "colab_type": "code",
        "outputId": "295d52cb-754f-43f6-ef46-92040737789a",
        "colab": {
          "base_uri": "https://localhost:8080/",
          "height": 194
        }
      },
      "source": [
        "df.head()"
      ],
      "execution_count": 48,
      "outputs": [
        {
          "output_type": "execute_result",
          "data": {
            "text/html": [
              "<div>\n",
              "<style scoped>\n",
              "    .dataframe tbody tr th:only-of-type {\n",
              "        vertical-align: middle;\n",
              "    }\n",
              "\n",
              "    .dataframe tbody tr th {\n",
              "        vertical-align: top;\n",
              "    }\n",
              "\n",
              "    .dataframe thead th {\n",
              "        text-align: right;\n",
              "    }\n",
              "</style>\n",
              "<table border=\"1\" class=\"dataframe\">\n",
              "  <thead>\n",
              "    <tr style=\"text-align: right;\">\n",
              "      <th></th>\n",
              "      <th>Num_times_pregnent</th>\n",
              "      <th>Plasma_gluc_Conc</th>\n",
              "      <th>Diastolic_blood_pressure</th>\n",
              "      <th>Triceps_thickness</th>\n",
              "      <th>Two_hour_serum_insulin</th>\n",
              "      <th>BMI</th>\n",
              "      <th>Diabetes_pedigree_func</th>\n",
              "      <th>Age</th>\n",
              "      <th>out</th>\n",
              "    </tr>\n",
              "  </thead>\n",
              "  <tbody>\n",
              "    <tr>\n",
              "      <th>0</th>\n",
              "      <td>6</td>\n",
              "      <td>148</td>\n",
              "      <td>72</td>\n",
              "      <td>35</td>\n",
              "      <td>0</td>\n",
              "      <td>33.6</td>\n",
              "      <td>0.627</td>\n",
              "      <td>50</td>\n",
              "      <td>1</td>\n",
              "    </tr>\n",
              "    <tr>\n",
              "      <th>1</th>\n",
              "      <td>1</td>\n",
              "      <td>85</td>\n",
              "      <td>66</td>\n",
              "      <td>29</td>\n",
              "      <td>0</td>\n",
              "      <td>26.6</td>\n",
              "      <td>0.351</td>\n",
              "      <td>31</td>\n",
              "      <td>0</td>\n",
              "    </tr>\n",
              "    <tr>\n",
              "      <th>2</th>\n",
              "      <td>8</td>\n",
              "      <td>183</td>\n",
              "      <td>64</td>\n",
              "      <td>0</td>\n",
              "      <td>0</td>\n",
              "      <td>23.3</td>\n",
              "      <td>0.672</td>\n",
              "      <td>32</td>\n",
              "      <td>1</td>\n",
              "    </tr>\n",
              "    <tr>\n",
              "      <th>3</th>\n",
              "      <td>1</td>\n",
              "      <td>89</td>\n",
              "      <td>66</td>\n",
              "      <td>23</td>\n",
              "      <td>94</td>\n",
              "      <td>28.1</td>\n",
              "      <td>0.167</td>\n",
              "      <td>21</td>\n",
              "      <td>0</td>\n",
              "    </tr>\n",
              "    <tr>\n",
              "      <th>4</th>\n",
              "      <td>0</td>\n",
              "      <td>137</td>\n",
              "      <td>40</td>\n",
              "      <td>35</td>\n",
              "      <td>168</td>\n",
              "      <td>43.1</td>\n",
              "      <td>2.288</td>\n",
              "      <td>33</td>\n",
              "      <td>1</td>\n",
              "    </tr>\n",
              "  </tbody>\n",
              "</table>\n",
              "</div>"
            ],
            "text/plain": [
              "   Num_times_pregnent  Plasma_gluc_Conc  ...  Age  out\n",
              "0                   6               148  ...   50    1\n",
              "1                   1                85  ...   31    0\n",
              "2                   8               183  ...   32    1\n",
              "3                   1                89  ...   21    0\n",
              "4                   0               137  ...   33    1\n",
              "\n",
              "[5 rows x 9 columns]"
            ]
          },
          "metadata": {
            "tags": []
          },
          "execution_count": 48
        }
      ]
    },
    {
      "cell_type": "code",
      "metadata": {
        "id": "W5zN9d52yD-w",
        "colab_type": "code",
        "outputId": "27955889-25a6-494f-f055-159314ac2d99",
        "colab": {
          "base_uri": "https://localhost:8080/",
          "height": 282
        }
      },
      "source": [
        "df.describe()"
      ],
      "execution_count": 49,
      "outputs": [
        {
          "output_type": "execute_result",
          "data": {
            "text/html": [
              "<div>\n",
              "<style scoped>\n",
              "    .dataframe tbody tr th:only-of-type {\n",
              "        vertical-align: middle;\n",
              "    }\n",
              "\n",
              "    .dataframe tbody tr th {\n",
              "        vertical-align: top;\n",
              "    }\n",
              "\n",
              "    .dataframe thead th {\n",
              "        text-align: right;\n",
              "    }\n",
              "</style>\n",
              "<table border=\"1\" class=\"dataframe\">\n",
              "  <thead>\n",
              "    <tr style=\"text-align: right;\">\n",
              "      <th></th>\n",
              "      <th>Num_times_pregnent</th>\n",
              "      <th>Plasma_gluc_Conc</th>\n",
              "      <th>Diastolic_blood_pressure</th>\n",
              "      <th>Triceps_thickness</th>\n",
              "      <th>Two_hour_serum_insulin</th>\n",
              "      <th>BMI</th>\n",
              "      <th>Diabetes_pedigree_func</th>\n",
              "      <th>Age</th>\n",
              "      <th>out</th>\n",
              "    </tr>\n",
              "  </thead>\n",
              "  <tbody>\n",
              "    <tr>\n",
              "      <th>count</th>\n",
              "      <td>768.000000</td>\n",
              "      <td>768.000000</td>\n",
              "      <td>768.000000</td>\n",
              "      <td>768.000000</td>\n",
              "      <td>768.000000</td>\n",
              "      <td>768.000000</td>\n",
              "      <td>768.000000</td>\n",
              "      <td>768.000000</td>\n",
              "      <td>768.000000</td>\n",
              "    </tr>\n",
              "    <tr>\n",
              "      <th>mean</th>\n",
              "      <td>3.845052</td>\n",
              "      <td>120.894531</td>\n",
              "      <td>69.105469</td>\n",
              "      <td>20.536458</td>\n",
              "      <td>79.799479</td>\n",
              "      <td>31.992578</td>\n",
              "      <td>0.471876</td>\n",
              "      <td>33.240885</td>\n",
              "      <td>0.348958</td>\n",
              "    </tr>\n",
              "    <tr>\n",
              "      <th>std</th>\n",
              "      <td>3.369578</td>\n",
              "      <td>31.972618</td>\n",
              "      <td>19.355807</td>\n",
              "      <td>15.952218</td>\n",
              "      <td>115.244002</td>\n",
              "      <td>7.884160</td>\n",
              "      <td>0.331329</td>\n",
              "      <td>11.760232</td>\n",
              "      <td>0.476951</td>\n",
              "    </tr>\n",
              "    <tr>\n",
              "      <th>min</th>\n",
              "      <td>0.000000</td>\n",
              "      <td>0.000000</td>\n",
              "      <td>0.000000</td>\n",
              "      <td>0.000000</td>\n",
              "      <td>0.000000</td>\n",
              "      <td>0.000000</td>\n",
              "      <td>0.078000</td>\n",
              "      <td>21.000000</td>\n",
              "      <td>0.000000</td>\n",
              "    </tr>\n",
              "    <tr>\n",
              "      <th>25%</th>\n",
              "      <td>1.000000</td>\n",
              "      <td>99.000000</td>\n",
              "      <td>62.000000</td>\n",
              "      <td>0.000000</td>\n",
              "      <td>0.000000</td>\n",
              "      <td>27.300000</td>\n",
              "      <td>0.243750</td>\n",
              "      <td>24.000000</td>\n",
              "      <td>0.000000</td>\n",
              "    </tr>\n",
              "    <tr>\n",
              "      <th>50%</th>\n",
              "      <td>3.000000</td>\n",
              "      <td>117.000000</td>\n",
              "      <td>72.000000</td>\n",
              "      <td>23.000000</td>\n",
              "      <td>30.500000</td>\n",
              "      <td>32.000000</td>\n",
              "      <td>0.372500</td>\n",
              "      <td>29.000000</td>\n",
              "      <td>0.000000</td>\n",
              "    </tr>\n",
              "    <tr>\n",
              "      <th>75%</th>\n",
              "      <td>6.000000</td>\n",
              "      <td>140.250000</td>\n",
              "      <td>80.000000</td>\n",
              "      <td>32.000000</td>\n",
              "      <td>127.250000</td>\n",
              "      <td>36.600000</td>\n",
              "      <td>0.626250</td>\n",
              "      <td>41.000000</td>\n",
              "      <td>1.000000</td>\n",
              "    </tr>\n",
              "    <tr>\n",
              "      <th>max</th>\n",
              "      <td>17.000000</td>\n",
              "      <td>199.000000</td>\n",
              "      <td>122.000000</td>\n",
              "      <td>99.000000</td>\n",
              "      <td>846.000000</td>\n",
              "      <td>67.100000</td>\n",
              "      <td>2.420000</td>\n",
              "      <td>81.000000</td>\n",
              "      <td>1.000000</td>\n",
              "    </tr>\n",
              "  </tbody>\n",
              "</table>\n",
              "</div>"
            ],
            "text/plain": [
              "       Num_times_pregnent  Plasma_gluc_Conc  ...         Age         out\n",
              "count          768.000000        768.000000  ...  768.000000  768.000000\n",
              "mean             3.845052        120.894531  ...   33.240885    0.348958\n",
              "std              3.369578         31.972618  ...   11.760232    0.476951\n",
              "min              0.000000          0.000000  ...   21.000000    0.000000\n",
              "25%              1.000000         99.000000  ...   24.000000    0.000000\n",
              "50%              3.000000        117.000000  ...   29.000000    0.000000\n",
              "75%              6.000000        140.250000  ...   41.000000    1.000000\n",
              "max             17.000000        199.000000  ...   81.000000    1.000000\n",
              "\n",
              "[8 rows x 9 columns]"
            ]
          },
          "metadata": {
            "tags": []
          },
          "execution_count": 49
        }
      ]
    },
    {
      "cell_type": "code",
      "metadata": {
        "id": "sjrWDvTEyD6f",
        "colab_type": "code",
        "outputId": "01b945be-b510-418a-9d56-60125849c0a5",
        "colab": {
          "base_uri": "https://localhost:8080/",
          "height": 266
        }
      },
      "source": [
        "df.info()"
      ],
      "execution_count": 50,
      "outputs": [
        {
          "output_type": "stream",
          "text": [
            "<class 'pandas.core.frame.DataFrame'>\n",
            "RangeIndex: 768 entries, 0 to 767\n",
            "Data columns (total 9 columns):\n",
            "Num_times_pregnent          768 non-null int64\n",
            "Plasma_gluc_Conc            768 non-null int64\n",
            "Diastolic_blood_pressure    768 non-null int64\n",
            "Triceps_thickness           768 non-null int64\n",
            "Two_hour_serum_insulin      768 non-null int64\n",
            "BMI                         768 non-null float64\n",
            "Diabetes_pedigree_func      768 non-null float64\n",
            "Age                         768 non-null int64\n",
            "out                         768 non-null int64\n",
            "dtypes: float64(2), int64(7)\n",
            "memory usage: 54.1 KB\n"
          ],
          "name": "stdout"
        }
      ]
    },
    {
      "cell_type": "code",
      "metadata": {
        "id": "HoIADTEzpK2k",
        "colab_type": "code",
        "colab": {}
      },
      "source": [
        "X_f = df.drop(['out'],  axis = 1)"
      ],
      "execution_count": 0,
      "outputs": []
    },
    {
      "cell_type": "code",
      "metadata": {
        "id": "ehSV7R3ipnb7",
        "colab_type": "code",
        "outputId": "d2d11009-6ef6-43b2-b390-cc5f88216cda",
        "colab": {
          "base_uri": "https://localhost:8080/",
          "height": 88
        }
      },
      "source": [
        "X_f.columns"
      ],
      "execution_count": 21,
      "outputs": [
        {
          "output_type": "execute_result",
          "data": {
            "text/plain": [
              "Index(['Num_times_pregnent', 'Plasma_gluc_Conc', 'Diastolic_blood_pressure',\n",
              "       'Triceps_thickness', 'Two_hour_serum_insulin', 'BMI',\n",
              "       'Diabetes_pedigree_func', 'Age'],\n",
              "      dtype='object')"
            ]
          },
          "metadata": {
            "tags": []
          },
          "execution_count": 21
        }
      ]
    },
    {
      "cell_type": "code",
      "metadata": {
        "id": "1Qor5auaHgOj",
        "colab_type": "code",
        "colab": {}
      },
      "source": [
        "scaler= StandardScaler().fit(X_f)\n",
        "X = scaler.transform(X_f)\n"
      ],
      "execution_count": 0,
      "outputs": []
    },
    {
      "cell_type": "code",
      "metadata": {
        "id": "DGUlJLT_pxr8",
        "colab_type": "code",
        "colab": {}
      },
      "source": [
        "Y = df.out"
      ],
      "execution_count": 0,
      "outputs": []
    },
    {
      "cell_type": "code",
      "metadata": {
        "id": "ylfZP-JKp2Wm",
        "colab_type": "code",
        "colab": {}
      },
      "source": [
        "X_train, X_test,  y_train, y_test = train_test_split(X, Y, test_size=0.2, random_state=0)"
      ],
      "execution_count": 0,
      "outputs": []
    },
    {
      "cell_type": "code",
      "metadata": {
        "id": "jA5MB2VXqfih",
        "colab_type": "code",
        "outputId": "8507a43b-cc95-4495-b26b-3ea3f63b381e",
        "colab": {
          "base_uri": "https://localhost:8080/",
          "height": 35
        }
      },
      "source": [
        "X.shape"
      ],
      "execution_count": 27,
      "outputs": [
        {
          "output_type": "execute_result",
          "data": {
            "text/plain": [
              "(767, 8)"
            ]
          },
          "metadata": {
            "tags": []
          },
          "execution_count": 27
        }
      ]
    },
    {
      "cell_type": "code",
      "metadata": {
        "id": "Rx0yAzUZp5Kc",
        "colab_type": "code",
        "outputId": "676db139-66a3-4e1e-a5da-c0fb2165b031",
        "colab": {
          "base_uri": "https://localhost:8080/",
          "height": 35
        }
      },
      "source": [
        "X_train.shape"
      ],
      "execution_count": 28,
      "outputs": [
        {
          "output_type": "execute_result",
          "data": {
            "text/plain": [
              "(613, 8)"
            ]
          },
          "metadata": {
            "tags": []
          },
          "execution_count": 28
        }
      ]
    },
    {
      "cell_type": "code",
      "metadata": {
        "id": "fu-PmjFpp8xu",
        "colab_type": "code",
        "outputId": "3b9d2f6e-9ebe-4a26-b8bc-ae9d0c445759",
        "colab": {
          "base_uri": "https://localhost:8080/",
          "height": 35
        }
      },
      "source": [
        "y_train.shape"
      ],
      "execution_count": 29,
      "outputs": [
        {
          "output_type": "execute_result",
          "data": {
            "text/plain": [
              "(613,)"
            ]
          },
          "metadata": {
            "tags": []
          },
          "execution_count": 29
        }
      ]
    },
    {
      "cell_type": "code",
      "metadata": {
        "id": "1iiD4iqhp_c6",
        "colab_type": "code",
        "colab": {}
      },
      "source": [
        "def model_score(model, X, y, X_test, y_test):\n",
        "  model.fit(X, y)\n",
        "  Y = model.predict(X_test)\n",
        "  return mse(y_test, Y)"
      ],
      "execution_count": 0,
      "outputs": []
    },
    {
      "cell_type": "code",
      "metadata": {
        "id": "MZAHbcyQxU4r",
        "colab_type": "code",
        "colab": {}
      },
      "source": [
        "model1 = DecisionTreeClassifier(max_depth = 20, random_state=0)"
      ],
      "execution_count": 0,
      "outputs": []
    },
    {
      "cell_type": "code",
      "metadata": {
        "id": "AT3lou1gxYOJ",
        "colab_type": "code",
        "outputId": "d9ee9bc8-80f6-4365-c5ad-87932b5e56a5",
        "colab": {
          "base_uri": "https://localhost:8080/",
          "height": 35
        }
      },
      "source": [
        "\n",
        "model_score(model1, X_train, y_train, X_test, y_test)"
      ],
      "execution_count": 32,
      "outputs": [
        {
          "output_type": "execute_result",
          "data": {
            "text/plain": [
              "0.2727272727272727"
            ]
          },
          "metadata": {
            "tags": []
          },
          "execution_count": 32
        }
      ]
    },
    {
      "cell_type": "code",
      "metadata": {
        "id": "_F0COVH0xzzB",
        "colab_type": "code",
        "colab": {}
      },
      "source": [
        "model2 = LogisticRegression(C=1000)"
      ],
      "execution_count": 0,
      "outputs": []
    },
    {
      "cell_type": "code",
      "metadata": {
        "id": "-5wuxxsN7TvB",
        "colab_type": "code",
        "outputId": "d015b022-1740-4d80-b4a1-0738022b5268",
        "colab": {
          "base_uri": "https://localhost:8080/",
          "height": 70
        }
      },
      "source": [
        "model_score(model2, X_train, y_train, X_test, y_test)"
      ],
      "execution_count": 34,
      "outputs": [
        {
          "output_type": "stream",
          "text": [
            "/usr/local/lib/python3.6/dist-packages/sklearn/linear_model/logistic.py:432: FutureWarning: Default solver will be changed to 'lbfgs' in 0.22. Specify a solver to silence this warning.\n",
            "  FutureWarning)\n"
          ],
          "name": "stderr"
        },
        {
          "output_type": "execute_result",
          "data": {
            "text/plain": [
              "0.22077922077922077"
            ]
          },
          "metadata": {
            "tags": []
          },
          "execution_count": 34
        }
      ]
    },
    {
      "cell_type": "code",
      "metadata": {
        "id": "Ewlpmpup7yxK",
        "colab_type": "code",
        "colab": {}
      },
      "source": [
        "model3 = KNeighborsClassifier(n_neighbors=15)"
      ],
      "execution_count": 0,
      "outputs": []
    },
    {
      "cell_type": "code",
      "metadata": {
        "id": "uGSFvfHp_LeZ",
        "colab_type": "code",
        "outputId": "c8c50ce1-8f75-49ae-fbe3-3912b132172d",
        "colab": {
          "base_uri": "https://localhost:8080/",
          "height": 35
        }
      },
      "source": [
        "model_score(model3, X_train, y_train, X_test, y_test)"
      ],
      "execution_count": 36,
      "outputs": [
        {
          "output_type": "execute_result",
          "data": {
            "text/plain": [
              "0.24675324675324675"
            ]
          },
          "metadata": {
            "tags": []
          },
          "execution_count": 36
        }
      ]
    },
    {
      "cell_type": "code",
      "metadata": {
        "id": "nkEzqyfO_gtr",
        "colab_type": "code",
        "colab": {}
      },
      "source": [
        "model4= MLPClassifier(hidden_layer_sizes=(15,5), alpha=1, max_iter=500, random_state=0)"
      ],
      "execution_count": 0,
      "outputs": []
    },
    {
      "cell_type": "code",
      "metadata": {
        "id": "nNZWpzFiAbFg",
        "colab_type": "code",
        "outputId": "4bcf1a75-e9cc-4633-b8eb-828b93fa09d5",
        "colab": {
          "base_uri": "https://localhost:8080/",
          "height": 35
        }
      },
      "source": [
        "\n",
        "model_score(model4, X_train, y_train, X_test, y_test)"
      ],
      "execution_count": 38,
      "outputs": [
        {
          "output_type": "execute_result",
          "data": {
            "text/plain": [
              "0.21428571428571427"
            ]
          },
          "metadata": {
            "tags": []
          },
          "execution_count": 38
        }
      ]
    },
    {
      "cell_type": "code",
      "metadata": {
        "id": "SD6fFHhvAe69",
        "colab_type": "code",
        "colab": {
          "base_uri": "https://localhost:8080/",
          "height": 35
        },
        "outputId": "bd0f3582-97a2-479d-ac95-82da38d2600c"
      },
      "source": [
        "from keras.models import Sequential\n",
        "from keras.layers import Dense"
      ],
      "execution_count": 39,
      "outputs": [
        {
          "output_type": "stream",
          "text": [
            "Using TensorFlow backend.\n"
          ],
          "name": "stderr"
        }
      ]
    },
    {
      "cell_type": "code",
      "metadata": {
        "id": "xcImDjqUCCBI",
        "colab_type": "code",
        "colab": {
          "base_uri": "https://localhost:8080/",
          "height": 124
        },
        "outputId": "aef61818-e63d-4539-c0b7-01a98f4cfa73"
      },
      "source": [
        "model5 = Sequential()\n",
        "model5.add(Dense(12, input_dim=8, activation='relu'))\n",
        "model5.add(Dense(8, activation='relu'))\n",
        "model5.add(Dense(1, activation='sigmoid'))"
      ],
      "execution_count": 40,
      "outputs": [
        {
          "output_type": "stream",
          "text": [
            "WARNING:tensorflow:From /usr/local/lib/python3.6/dist-packages/keras/backend/tensorflow_backend.py:66: The name tf.get_default_graph is deprecated. Please use tf.compat.v1.get_default_graph instead.\n",
            "\n",
            "WARNING:tensorflow:From /usr/local/lib/python3.6/dist-packages/keras/backend/tensorflow_backend.py:541: The name tf.placeholder is deprecated. Please use tf.compat.v1.placeholder instead.\n",
            "\n",
            "WARNING:tensorflow:From /usr/local/lib/python3.6/dist-packages/keras/backend/tensorflow_backend.py:4432: The name tf.random_uniform is deprecated. Please use tf.random.uniform instead.\n",
            "\n"
          ],
          "name": "stdout"
        }
      ]
    },
    {
      "cell_type": "code",
      "metadata": {
        "id": "jyWGz5j_CHc1",
        "colab_type": "code",
        "colab": {
          "base_uri": "https://localhost:8080/",
          "height": 161
        },
        "outputId": "3eb380ac-58bf-4f85-ef50-7ab31589ac08"
      },
      "source": [
        "model5.compile(loss= 'binary_crossentropy', optimizer= 'adam', metrics=['accuracy'])\n"
      ],
      "execution_count": 41,
      "outputs": [
        {
          "output_type": "stream",
          "text": [
            "WARNING:tensorflow:From /usr/local/lib/python3.6/dist-packages/keras/optimizers.py:793: The name tf.train.Optimizer is deprecated. Please use tf.compat.v1.train.Optimizer instead.\n",
            "\n",
            "WARNING:tensorflow:From /usr/local/lib/python3.6/dist-packages/keras/backend/tensorflow_backend.py:3657: The name tf.log is deprecated. Please use tf.math.log instead.\n",
            "\n",
            "WARNING:tensorflow:From /usr/local/lib/python3.6/dist-packages/tensorflow/python/ops/nn_impl.py:180: add_dispatch_support.<locals>.wrapper (from tensorflow.python.ops.array_ops) is deprecated and will be removed in a future version.\n",
            "Instructions for updating:\n",
            "Use tf.where in 2.0, which has the same broadcast rule as np.where\n"
          ],
          "name": "stdout"
        }
      ]
    },
    {
      "cell_type": "code",
      "metadata": {
        "id": "q47FDfwtDDxg",
        "colab_type": "code",
        "outputId": "34231c3b-83c9-4116-a889-c7bc72c94d8f",
        "colab": {
          "base_uri": "https://localhost:8080/",
          "height": 106
        }
      },
      "source": [
        "model_score(model5, X_train, y_train, X_test, y_test)"
      ],
      "execution_count": 42,
      "outputs": [
        {
          "output_type": "stream",
          "text": [
            "WARNING:tensorflow:From /usr/local/lib/python3.6/dist-packages/keras/backend/tensorflow_backend.py:1033: The name tf.assign_add is deprecated. Please use tf.compat.v1.assign_add instead.\n",
            "\n",
            "Epoch 1/1\n",
            "613/613 [==============================] - 1s 1ms/step - loss: 0.7149 - acc: 0.4535\n"
          ],
          "name": "stdout"
        },
        {
          "output_type": "execute_result",
          "data": {
            "text/plain": [
              "0.2573492658605709"
            ]
          },
          "metadata": {
            "tags": []
          },
          "execution_count": 42
        }
      ]
    },
    {
      "cell_type": "code",
      "metadata": {
        "id": "dnbddZInCgfe",
        "colab_type": "code",
        "colab": {}
      },
      "source": [
        "def model_score_deep(model, X, y, X_test, y_test):\n",
        "  model.fit(X, y, epochs=150, batch_size=10)\n",
        "  Y = model.predict(X_test)\n",
        "  return mse(y_test, Y)"
      ],
      "execution_count": 0,
      "outputs": []
    },
    {
      "cell_type": "code",
      "metadata": {
        "id": "7imOKvTyEgpf",
        "colab_type": "code",
        "outputId": "3da9ec8c-d499-43be-fa00-a6463963939f",
        "colab": {
          "base_uri": "https://localhost:8080/",
          "height": 1000
        }
      },
      "source": [
        "model_score_deep(model5, X_train, y_train, X_test, y_test)"
      ],
      "execution_count": 44,
      "outputs": [
        {
          "output_type": "stream",
          "text": [
            "Epoch 1/150\n",
            "613/613 [==============================] - 0s 129us/step - loss: 0.6914 - acc: 0.5726\n",
            "Epoch 2/150\n",
            "613/613 [==============================] - 0s 121us/step - loss: 0.6681 - acc: 0.6721\n",
            "Epoch 3/150\n",
            "613/613 [==============================] - 0s 118us/step - loss: 0.6481 - acc: 0.6949\n",
            "Epoch 4/150\n",
            "613/613 [==============================] - 0s 115us/step - loss: 0.6266 - acc: 0.7145\n",
            "Epoch 5/150\n",
            "613/613 [==============================] - 0s 114us/step - loss: 0.5984 - acc: 0.7162\n",
            "Epoch 6/150\n",
            "613/613 [==============================] - 0s 118us/step - loss: 0.5644 - acc: 0.7357\n",
            "Epoch 7/150\n",
            "613/613 [==============================] - 0s 128us/step - loss: 0.5286 - acc: 0.7439\n",
            "Epoch 8/150\n",
            "613/613 [==============================] - 0s 115us/step - loss: 0.5003 - acc: 0.7569\n",
            "Epoch 9/150\n",
            "613/613 [==============================] - 0s 121us/step - loss: 0.4838 - acc: 0.7667\n",
            "Epoch 10/150\n",
            "613/613 [==============================] - 0s 119us/step - loss: 0.4746 - acc: 0.7765\n",
            "Epoch 11/150\n",
            "613/613 [==============================] - 0s 116us/step - loss: 0.4680 - acc: 0.7716\n",
            "Epoch 12/150\n",
            "613/613 [==============================] - 0s 117us/step - loss: 0.4627 - acc: 0.7863\n",
            "Epoch 13/150\n",
            "613/613 [==============================] - 0s 138us/step - loss: 0.4605 - acc: 0.7896\n",
            "Epoch 14/150\n",
            "613/613 [==============================] - 0s 118us/step - loss: 0.4581 - acc: 0.7896\n",
            "Epoch 15/150\n",
            "613/613 [==============================] - 0s 118us/step - loss: 0.4561 - acc: 0.7847\n",
            "Epoch 16/150\n",
            "613/613 [==============================] - 0s 122us/step - loss: 0.4533 - acc: 0.7879\n",
            "Epoch 17/150\n",
            "613/613 [==============================] - 0s 119us/step - loss: 0.4519 - acc: 0.7928\n",
            "Epoch 18/150\n",
            "613/613 [==============================] - 0s 132us/step - loss: 0.4509 - acc: 0.7896\n",
            "Epoch 19/150\n",
            "613/613 [==============================] - 0s 128us/step - loss: 0.4480 - acc: 0.7896\n",
            "Epoch 20/150\n",
            "613/613 [==============================] - 0s 116us/step - loss: 0.4456 - acc: 0.7993\n",
            "Epoch 21/150\n",
            "613/613 [==============================] - 0s 128us/step - loss: 0.4451 - acc: 0.7945\n",
            "Epoch 22/150\n",
            "613/613 [==============================] - 0s 117us/step - loss: 0.4425 - acc: 0.7928\n",
            "Epoch 23/150\n",
            "613/613 [==============================] - 0s 120us/step - loss: 0.4404 - acc: 0.7977\n",
            "Epoch 24/150\n",
            "613/613 [==============================] - 0s 127us/step - loss: 0.4401 - acc: 0.7993\n",
            "Epoch 25/150\n",
            "613/613 [==============================] - 0s 136us/step - loss: 0.4376 - acc: 0.7912\n",
            "Epoch 26/150\n",
            "613/613 [==============================] - 0s 125us/step - loss: 0.4363 - acc: 0.8010\n",
            "Epoch 27/150\n",
            "613/613 [==============================] - 0s 118us/step - loss: 0.4352 - acc: 0.7993\n",
            "Epoch 28/150\n",
            "613/613 [==============================] - 0s 125us/step - loss: 0.4345 - acc: 0.8026\n",
            "Epoch 29/150\n",
            "613/613 [==============================] - 0s 128us/step - loss: 0.4332 - acc: 0.7993\n",
            "Epoch 30/150\n",
            "613/613 [==============================] - 0s 118us/step - loss: 0.4320 - acc: 0.8026\n",
            "Epoch 31/150\n",
            "613/613 [==============================] - 0s 118us/step - loss: 0.4308 - acc: 0.8010\n",
            "Epoch 32/150\n",
            "613/613 [==============================] - 0s 116us/step - loss: 0.4290 - acc: 0.8042\n",
            "Epoch 33/150\n",
            "613/613 [==============================] - 0s 120us/step - loss: 0.4285 - acc: 0.7993\n",
            "Epoch 34/150\n",
            "613/613 [==============================] - 0s 126us/step - loss: 0.4273 - acc: 0.8026\n",
            "Epoch 35/150\n",
            "613/613 [==============================] - 0s 133us/step - loss: 0.4264 - acc: 0.8010\n",
            "Epoch 36/150\n",
            "613/613 [==============================] - 0s 118us/step - loss: 0.4258 - acc: 0.8026\n",
            "Epoch 37/150\n",
            "613/613 [==============================] - 0s 117us/step - loss: 0.4262 - acc: 0.7993\n",
            "Epoch 38/150\n",
            "613/613 [==============================] - 0s 125us/step - loss: 0.4235 - acc: 0.8059\n",
            "Epoch 39/150\n",
            "613/613 [==============================] - 0s 121us/step - loss: 0.4228 - acc: 0.8059\n",
            "Epoch 40/150\n",
            "613/613 [==============================] - 0s 124us/step - loss: 0.4221 - acc: 0.8026\n",
            "Epoch 41/150\n",
            "613/613 [==============================] - 0s 121us/step - loss: 0.4210 - acc: 0.8075\n",
            "Epoch 42/150\n",
            "613/613 [==============================] - 0s 120us/step - loss: 0.4205 - acc: 0.8075\n",
            "Epoch 43/150\n",
            "613/613 [==============================] - 0s 128us/step - loss: 0.4203 - acc: 0.8042\n",
            "Epoch 44/150\n",
            "613/613 [==============================] - 0s 129us/step - loss: 0.4190 - acc: 0.8042\n",
            "Epoch 45/150\n",
            "613/613 [==============================] - 0s 118us/step - loss: 0.4182 - acc: 0.8059\n",
            "Epoch 46/150\n",
            "613/613 [==============================] - 0s 125us/step - loss: 0.4175 - acc: 0.8042\n",
            "Epoch 47/150\n",
            "613/613 [==============================] - 0s 119us/step - loss: 0.4167 - acc: 0.8059\n",
            "Epoch 48/150\n",
            "613/613 [==============================] - 0s 119us/step - loss: 0.4156 - acc: 0.8026\n",
            "Epoch 49/150\n",
            "613/613 [==============================] - 0s 134us/step - loss: 0.4150 - acc: 0.8091\n",
            "Epoch 50/150\n",
            "613/613 [==============================] - 0s 112us/step - loss: 0.4142 - acc: 0.8059\n",
            "Epoch 51/150\n",
            "613/613 [==============================] - 0s 119us/step - loss: 0.4131 - acc: 0.8059\n",
            "Epoch 52/150\n",
            "613/613 [==============================] - 0s 113us/step - loss: 0.4121 - acc: 0.8075\n",
            "Epoch 53/150\n",
            "613/613 [==============================] - 0s 126us/step - loss: 0.4122 - acc: 0.8059\n",
            "Epoch 54/150\n",
            "613/613 [==============================] - 0s 116us/step - loss: 0.4120 - acc: 0.8026\n",
            "Epoch 55/150\n",
            "613/613 [==============================] - 0s 125us/step - loss: 0.4117 - acc: 0.8059\n",
            "Epoch 56/150\n",
            "613/613 [==============================] - 0s 124us/step - loss: 0.4095 - acc: 0.8091\n",
            "Epoch 57/150\n",
            "613/613 [==============================] - 0s 128us/step - loss: 0.4096 - acc: 0.8026\n",
            "Epoch 58/150\n",
            "613/613 [==============================] - 0s 121us/step - loss: 0.4084 - acc: 0.8091\n",
            "Epoch 59/150\n",
            "613/613 [==============================] - 0s 121us/step - loss: 0.4083 - acc: 0.8091\n",
            "Epoch 60/150\n",
            "613/613 [==============================] - 0s 116us/step - loss: 0.4072 - acc: 0.8124\n",
            "Epoch 61/150\n",
            "613/613 [==============================] - 0s 122us/step - loss: 0.4067 - acc: 0.8108\n",
            "Epoch 62/150\n",
            "613/613 [==============================] - 0s 115us/step - loss: 0.4066 - acc: 0.8091\n",
            "Epoch 63/150\n",
            "613/613 [==============================] - 0s 119us/step - loss: 0.4050 - acc: 0.8140\n",
            "Epoch 64/150\n",
            "613/613 [==============================] - 0s 125us/step - loss: 0.4041 - acc: 0.8124\n",
            "Epoch 65/150\n",
            "613/613 [==============================] - 0s 112us/step - loss: 0.4035 - acc: 0.8157\n",
            "Epoch 66/150\n",
            "613/613 [==============================] - 0s 125us/step - loss: 0.4035 - acc: 0.8206\n",
            "Epoch 67/150\n",
            "613/613 [==============================] - 0s 118us/step - loss: 0.4022 - acc: 0.8189\n",
            "Epoch 68/150\n",
            "613/613 [==============================] - 0s 122us/step - loss: 0.4018 - acc: 0.8173\n",
            "Epoch 69/150\n",
            "613/613 [==============================] - 0s 123us/step - loss: 0.4017 - acc: 0.8189\n",
            "Epoch 70/150\n",
            "613/613 [==============================] - 0s 119us/step - loss: 0.4007 - acc: 0.8157\n",
            "Epoch 71/150\n",
            "613/613 [==============================] - 0s 118us/step - loss: 0.4011 - acc: 0.8206\n",
            "Epoch 72/150\n",
            "613/613 [==============================] - 0s 119us/step - loss: 0.4015 - acc: 0.8173\n",
            "Epoch 73/150\n",
            "613/613 [==============================] - 0s 135us/step - loss: 0.4001 - acc: 0.8157\n",
            "Epoch 74/150\n",
            "613/613 [==============================] - 0s 120us/step - loss: 0.3993 - acc: 0.8173\n",
            "Epoch 75/150\n",
            "613/613 [==============================] - 0s 116us/step - loss: 0.3992 - acc: 0.8206\n",
            "Epoch 76/150\n",
            "613/613 [==============================] - 0s 120us/step - loss: 0.3982 - acc: 0.8173\n",
            "Epoch 77/150\n",
            "613/613 [==============================] - 0s 120us/step - loss: 0.3986 - acc: 0.8189\n",
            "Epoch 78/150\n",
            "613/613 [==============================] - 0s 120us/step - loss: 0.3978 - acc: 0.8140\n",
            "Epoch 79/150\n",
            "613/613 [==============================] - 0s 119us/step - loss: 0.3970 - acc: 0.8189\n",
            "Epoch 80/150\n",
            "613/613 [==============================] - 0s 136us/step - loss: 0.3965 - acc: 0.8206\n",
            "Epoch 81/150\n",
            "613/613 [==============================] - 0s 122us/step - loss: 0.3966 - acc: 0.8189\n",
            "Epoch 82/150\n",
            "613/613 [==============================] - 0s 120us/step - loss: 0.3957 - acc: 0.8140\n",
            "Epoch 83/150\n",
            "613/613 [==============================] - 0s 139us/step - loss: 0.3964 - acc: 0.8157\n",
            "Epoch 84/150\n",
            "613/613 [==============================] - 0s 120us/step - loss: 0.3953 - acc: 0.8140\n",
            "Epoch 85/150\n",
            "613/613 [==============================] - 0s 128us/step - loss: 0.3947 - acc: 0.8206\n",
            "Epoch 86/150\n",
            "613/613 [==============================] - 0s 120us/step - loss: 0.3943 - acc: 0.8222\n",
            "Epoch 87/150\n",
            "613/613 [==============================] - 0s 121us/step - loss: 0.3932 - acc: 0.8206\n",
            "Epoch 88/150\n",
            "613/613 [==============================] - 0s 120us/step - loss: 0.3933 - acc: 0.8206\n",
            "Epoch 89/150\n",
            "613/613 [==============================] - 0s 118us/step - loss: 0.3934 - acc: 0.8206\n",
            "Epoch 90/150\n",
            "613/613 [==============================] - 0s 118us/step - loss: 0.3923 - acc: 0.8222\n",
            "Epoch 91/150\n",
            "613/613 [==============================] - 0s 129us/step - loss: 0.3925 - acc: 0.8206\n",
            "Epoch 92/150\n",
            "613/613 [==============================] - 0s 124us/step - loss: 0.3913 - acc: 0.8173\n",
            "Epoch 93/150\n",
            "613/613 [==============================] - 0s 125us/step - loss: 0.3911 - acc: 0.8238\n",
            "Epoch 94/150\n",
            "613/613 [==============================] - 0s 117us/step - loss: 0.3911 - acc: 0.8124\n",
            "Epoch 95/150\n",
            "613/613 [==============================] - 0s 123us/step - loss: 0.3896 - acc: 0.8157\n",
            "Epoch 96/150\n",
            "613/613 [==============================] - 0s 137us/step - loss: 0.3909 - acc: 0.8157\n",
            "Epoch 97/150\n",
            "613/613 [==============================] - 0s 126us/step - loss: 0.3896 - acc: 0.8222\n",
            "Epoch 98/150\n",
            "613/613 [==============================] - 0s 119us/step - loss: 0.3884 - acc: 0.8173\n",
            "Epoch 99/150\n",
            "613/613 [==============================] - 0s 124us/step - loss: 0.3898 - acc: 0.8206\n",
            "Epoch 100/150\n",
            "613/613 [==============================] - 0s 119us/step - loss: 0.3878 - acc: 0.8238\n",
            "Epoch 101/150\n",
            "613/613 [==============================] - 0s 124us/step - loss: 0.3882 - acc: 0.8222\n",
            "Epoch 102/150\n",
            "613/613 [==============================] - 0s 117us/step - loss: 0.3875 - acc: 0.8222\n",
            "Epoch 103/150\n",
            "613/613 [==============================] - 0s 122us/step - loss: 0.3863 - acc: 0.8206\n",
            "Epoch 104/150\n",
            "613/613 [==============================] - 0s 116us/step - loss: 0.3873 - acc: 0.8189\n",
            "Epoch 105/150\n",
            "613/613 [==============================] - 0s 123us/step - loss: 0.3861 - acc: 0.8189\n",
            "Epoch 106/150\n",
            "613/613 [==============================] - 0s 128us/step - loss: 0.3868 - acc: 0.8206\n",
            "Epoch 107/150\n",
            "613/613 [==============================] - 0s 115us/step - loss: 0.3870 - acc: 0.8157\n",
            "Epoch 108/150\n",
            "613/613 [==============================] - 0s 125us/step - loss: 0.3862 - acc: 0.8189\n",
            "Epoch 109/150\n",
            "613/613 [==============================] - 0s 120us/step - loss: 0.3854 - acc: 0.8222\n",
            "Epoch 110/150\n",
            "613/613 [==============================] - 0s 120us/step - loss: 0.3855 - acc: 0.8157\n",
            "Epoch 111/150\n",
            "613/613 [==============================] - 0s 130us/step - loss: 0.3841 - acc: 0.8189\n",
            "Epoch 112/150\n",
            "613/613 [==============================] - 0s 118us/step - loss: 0.3834 - acc: 0.8157\n",
            "Epoch 113/150\n",
            "613/613 [==============================] - 0s 113us/step - loss: 0.3835 - acc: 0.8238\n",
            "Epoch 114/150\n",
            "613/613 [==============================] - 0s 115us/step - loss: 0.3831 - acc: 0.8222\n",
            "Epoch 115/150\n",
            "613/613 [==============================] - 0s 116us/step - loss: 0.3832 - acc: 0.8238\n",
            "Epoch 116/150\n",
            "613/613 [==============================] - 0s 121us/step - loss: 0.3828 - acc: 0.8157\n",
            "Epoch 117/150\n",
            "613/613 [==============================] - 0s 115us/step - loss: 0.3825 - acc: 0.8173\n",
            "Epoch 118/150\n",
            "613/613 [==============================] - 0s 121us/step - loss: 0.3820 - acc: 0.8206\n",
            "Epoch 119/150\n",
            "613/613 [==============================] - 0s 118us/step - loss: 0.3824 - acc: 0.8222\n",
            "Epoch 120/150\n",
            "613/613 [==============================] - 0s 117us/step - loss: 0.3818 - acc: 0.8173\n",
            "Epoch 121/150\n",
            "613/613 [==============================] - 0s 112us/step - loss: 0.3821 - acc: 0.8238\n",
            "Epoch 122/150\n",
            "613/613 [==============================] - 0s 116us/step - loss: 0.3809 - acc: 0.8189\n",
            "Epoch 123/150\n",
            "613/613 [==============================] - 0s 127us/step - loss: 0.3802 - acc: 0.8238\n",
            "Epoch 124/150\n",
            "613/613 [==============================] - 0s 119us/step - loss: 0.3813 - acc: 0.8238\n",
            "Epoch 125/150\n",
            "613/613 [==============================] - 0s 134us/step - loss: 0.3793 - acc: 0.8189\n",
            "Epoch 126/150\n",
            "613/613 [==============================] - 0s 124us/step - loss: 0.3797 - acc: 0.8271\n",
            "Epoch 127/150\n",
            "613/613 [==============================] - 0s 117us/step - loss: 0.3796 - acc: 0.8287\n",
            "Epoch 128/150\n",
            "613/613 [==============================] - 0s 120us/step - loss: 0.3786 - acc: 0.8287\n",
            "Epoch 129/150\n",
            "613/613 [==============================] - 0s 121us/step - loss: 0.3787 - acc: 0.8238\n",
            "Epoch 130/150\n",
            "613/613 [==============================] - 0s 116us/step - loss: 0.3779 - acc: 0.8238\n",
            "Epoch 131/150\n",
            "613/613 [==============================] - 0s 127us/step - loss: 0.3778 - acc: 0.8238\n",
            "Epoch 132/150\n",
            "613/613 [==============================] - 0s 118us/step - loss: 0.3770 - acc: 0.8238\n",
            "Epoch 133/150\n",
            "613/613 [==============================] - 0s 126us/step - loss: 0.3768 - acc: 0.8222\n",
            "Epoch 134/150\n",
            "613/613 [==============================] - 0s 122us/step - loss: 0.3768 - acc: 0.8271\n",
            "Epoch 135/150\n",
            "613/613 [==============================] - 0s 124us/step - loss: 0.3769 - acc: 0.8206\n",
            "Epoch 136/150\n",
            "613/613 [==============================] - 0s 122us/step - loss: 0.3753 - acc: 0.8254\n",
            "Epoch 137/150\n",
            "613/613 [==============================] - 0s 118us/step - loss: 0.3756 - acc: 0.8206\n",
            "Epoch 138/150\n",
            "613/613 [==============================] - 0s 116us/step - loss: 0.3754 - acc: 0.8238\n",
            "Epoch 139/150\n",
            "613/613 [==============================] - 0s 114us/step - loss: 0.3739 - acc: 0.8238\n",
            "Epoch 140/150\n",
            "613/613 [==============================] - 0s 127us/step - loss: 0.3746 - acc: 0.8206\n",
            "Epoch 141/150\n",
            "613/613 [==============================] - 0s 118us/step - loss: 0.3739 - acc: 0.8303\n",
            "Epoch 142/150\n",
            "613/613 [==============================] - 0s 122us/step - loss: 0.3731 - acc: 0.8287\n",
            "Epoch 143/150\n",
            "613/613 [==============================] - 0s 114us/step - loss: 0.3736 - acc: 0.8254\n",
            "Epoch 144/150\n",
            "613/613 [==============================] - 0s 125us/step - loss: 0.3730 - acc: 0.8271\n",
            "Epoch 145/150\n",
            "613/613 [==============================] - 0s 120us/step - loss: 0.3738 - acc: 0.8206\n",
            "Epoch 146/150\n",
            "613/613 [==============================] - 0s 121us/step - loss: 0.3725 - acc: 0.8320\n",
            "Epoch 147/150\n",
            "613/613 [==============================] - 0s 126us/step - loss: 0.3718 - acc: 0.8254\n",
            "Epoch 148/150\n",
            "613/613 [==============================] - 0s 124us/step - loss: 0.3713 - acc: 0.8320\n",
            "Epoch 149/150\n",
            "613/613 [==============================] - 0s 119us/step - loss: 0.3717 - acc: 0.8336\n",
            "Epoch 150/150\n",
            "613/613 [==============================] - 0s 118us/step - loss: 0.3712 - acc: 0.8303\n"
          ],
          "name": "stdout"
        },
        {
          "output_type": "execute_result",
          "data": {
            "text/plain": [
              "0.1580385731285639"
            ]
          },
          "metadata": {
            "tags": []
          },
          "execution_count": 44
        }
      ]
    },
    {
      "cell_type": "code",
      "metadata": {
        "id": "ciQcWk4ZEnkW",
        "colab_type": "code",
        "colab": {}
      },
      "source": [
        ""
      ],
      "execution_count": 0,
      "outputs": []
    }
  ]
}